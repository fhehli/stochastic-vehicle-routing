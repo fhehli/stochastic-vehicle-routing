{
 "cells": [
  {
   "cell_type": "markdown",
   "metadata": {},
   "source": [
    "### Environment Setup and Dependency Installation\n",
    "Don't run this if you don't have problems with dataset creation (section below)"
   ]
  },
  {
   "cell_type": "markdown",
   "metadata": {},
   "source": [
    "### Dataset Creation\n",
    "First create the dataset using the command below. If the command fails, try running it directly in the terminal instead.\n",
    "After the dataset is created, adapt the config file in `configs`. The default is `configs/test.yaml`.\n"
   ]
  },
  {
   "cell_type": "code",
   "execution_count": null,
   "metadata": {},
   "outputs": [],
   "source": [
    "# create dataset\n",
    "!python3 src/dataset_creator.py --n_samples 50 --n_tasks 25 --n_scenarios 10  --city --out_file \"data/paper_config.pkl\""
   ]
  },
  {
   "cell_type": "markdown",
   "metadata": {},
   "source": [
    "### The Interactive Trainer\n",
    "This is an adaption of `src/trainer.py`. It can be used to log the city instances and the VSP solutions."
   ]
  },
  {
   "cell_type": "code",
   "execution_count": 4,
   "metadata": {},
   "outputs": [],
   "source": [
    "from functools import partial\n",
    "from pathlib import Path\n",
    "\n",
    "import yaml\n",
    "import numpy as np\n",
    "import torch\n",
    "from tqdm.auto import tqdm\n",
    "from torch.utils.tensorboard import SummaryWriter\n",
    "\n",
    "from src.VSPSolver import solve_vsp\n",
    "from src.utils import get_model, get_criterion, get_optimizer, get_dataloaders\n",
    "from src.city import City\n",
    "from src.visualization_utils import visualize_paths, visualize_tasks\n",
    "\n",
    "\n",
    "# add simple tensorboard to the trainer to visualize results \n",
    "class InteractiveTrainer:\n",
    "    def __init__(self, config, log=False, **kwargs):\n",
    "        self.config = config\n",
    "        self.device = torch.device(\"cuda:0\" if torch.cuda.is_available() else \"cpu\")\n",
    "\n",
    "        self.model = get_model(config, device=self.device)\n",
    "        self.train_loader, self.val_loader, self.test_loader = get_dataloaders(config)\n",
    "\n",
    "        optimizer_class, optimizer_kwargs = get_optimizer(config)\n",
    "        self.optimizer = optimizer_class(self.model.parameters(), **optimizer_kwargs)\n",
    "\n",
    "        criterion_class, criterion_kwargs = get_criterion(config)\n",
    "        self.criterion = lambda func: criterion_class(func, **criterion_kwargs)\n",
    "\n",
    "        self.n_epochs = config[\"train\"][\"n_epochs\"]\n",
    "        self.eval_every = config[\"train\"][\"eval_every_n_epochs\"]\n",
    "        self.save_every = config[\"train\"][\"save_every_n_epochs\"]\n",
    "        self.save_dir = Path(config[\"train\"][\"save_dir\"])\n",
    "        self.save_dir.mkdir(parents=True, exist_ok=True)\n",
    "        self.with_city = config[\"data\"][\"city\"]\n",
    "        self.log = log\n",
    "        self.writer = SummaryWriter(kwargs[\"logdir\"]) if self.log else None\n",
    "\n",
    "    # compare all paths to chosen path and SVSP path\n",
    "    def update_log(self, instance, iter: int, loss: float, solution: list[int], labels: list[int], **kwargs):\n",
    "        if isinstance(instance, City):\n",
    "            # figure = visualize_paths(instance, solution)\n",
    "            solution_figure = visualize_tasks(instance, vsp_path=solution)\n",
    "            gt_figure = visualize_tasks(instance, vsp_path=labels)\n",
    "            self.writer.add_figure(f\"City/iter {iter}: solution\", solution_figure)\n",
    "            self.writer.add_figure(f\"City/iter {iter}: ground truth\", gt_figure)\n",
    "        self.writer.add_scalar(f\"Loss\", loss, iter)\n",
    "\n",
    "    def compute_metrics(self, i):\n",
    "        if i % self.eval_every != 0:\n",
    "            return\n",
    "        losses = []\n",
    "        self.model.eval()\n",
    "        with torch.no_grad():\n",
    "            for inputs, labels, instance in self.val_loader:\n",
    "                graph = instance.graph if self.with_city else instance\n",
    "                inputs = inputs.to(self.device)\n",
    "                labels = labels.to(self.device)\n",
    "\n",
    "                theta = self.model(inputs)\n",
    "                func = partial(solve_vsp, graph=graph)\n",
    "                criterion = self.criterion(func)\n",
    "                loss = criterion(theta, labels).mean()\n",
    "                losses.append(loss.item())\n",
    "\n",
    "        print(f\"Validation loss: {np.mean(losses):.3f}\")\n",
    "\n",
    "    def save_model(self, i):\n",
    "        if i % self.save_every == 0 and i > 0:\n",
    "            torch.save(self.model.state_dict(), self.save_dir / f\"epoch{i}.pt\")\n",
    "            \n",
    "    def load_model(self, path):\n",
    "        self.model.load_state_dict(torch.load(path))\n",
    "\n",
    "    def train_epoch(self, i):\n",
    "        self.model.train()\n",
    "        losses = []\n",
    "        for iter, (inputs, labels, instance) in tqdm(enumerate(self.train_loader), desc=f\"Epoch {i}\"):\n",
    "            graph = instance.graph if self.with_city else instance\n",
    "            inputs = inputs.to(self.device)\n",
    "            labels = labels.to(self.device)\n",
    "\n",
    "            self.optimizer.zero_grad()\n",
    "            theta = self.model(inputs)\n",
    "\n",
    "            func = partial(solve_vsp, graph=graph)\n",
    "            criterion = self.criterion(func)\n",
    "            loss = criterion(theta, labels)\n",
    "            losses.append(loss.item())\n",
    "\n",
    "            # workaround to get single solution from the solver\n",
    "            solution = func(theta.detach().clone().unsqueeze(0))[0]\n",
    "\n",
    "            loss.backward()\n",
    "            self.optimizer.step()\n",
    "\n",
    "            # visual logging here\n",
    "            if self.log:\n",
    "                self.global_steps += 1\n",
    "                self.update_log(instance, self.global_steps, loss, solution, labels)\n",
    "\n",
    "        print(f\"Train loss: {np.mean(losses):.3f}\")\n",
    "\n",
    "    def train(self):\n",
    "        self.global_steps = 0\n",
    "        for i in range(self.n_epochs):\n",
    "            self.train_epoch(i)\n",
    "            self.compute_metrics(i)\n",
    "            self.save_model(i)\n",
    "\n",
    "    def test(self):\n",
    "        self.model.eval()\n",
    "        losses = []\n",
    "        with torch.no_grad():\n",
    "            for inputs, labels, instance in tqdm(self.test_loader):\n",
    "                graph = instance.graph if self.with_city else instance\n",
    "                inputs = inputs.to(self.device)\n",
    "                labels = labels.to(self.device)\n",
    "                theta = self.model(inputs)\n",
    "                func = partial(solve_vsp, graph=graph)\n",
    "                criterion = self.criterion(func)\n",
    "                loss = criterion(theta, labels)\n",
    "                losses.append(loss.item())\n",
    "\n",
    "        print(f\"Test loss: {np.mean(losses):.3f}\")\n"
   ]
  },
  {
   "cell_type": "markdown",
   "metadata": {},
   "source": [
    "### Train on the dataset\n",
    "Run the following to start training our model. The figures will be stored in `runs/<your_run_name>` by default. Use `tensorboard --logdir=runs/<your_run_name>` to view them."
   ]
  },
  {
   "cell_type": "code",
   "execution_count": 9,
   "metadata": {},
   "outputs": [
    {
     "name": "stdout",
     "output_type": "stream",
     "text": [
      "True\n"
     ]
    },
    {
     "data": {
      "application/vnd.jupyter.widget-view+json": {
       "model_id": "909003d10f50424694f4aa0b910e5f38",
       "version_major": 2,
       "version_minor": 0
      },
      "text/plain": [
       "Epoch 0: 0it [00:00, ?it/s]"
      ]
     },
     "metadata": {},
     "output_type": "display_data"
    },
    {
     "name": "stdout",
     "output_type": "stream",
     "text": [
      "Train loss: 13.766\n",
      "Validation loss: 13.551\n"
     ]
    },
    {
     "data": {
      "application/vnd.jupyter.widget-view+json": {
       "model_id": "09040c3842bc49febaef8b84c4f9f6dc",
       "version_major": 2,
       "version_minor": 0
      },
      "text/plain": [
       "Epoch 1: 0it [00:00, ?it/s]"
      ]
     },
     "metadata": {},
     "output_type": "display_data"
    },
    {
     "name": "stdout",
     "output_type": "stream",
     "text": [
      "Train loss: 13.140\n",
      "Validation loss: 13.635\n"
     ]
    },
    {
     "data": {
      "application/vnd.jupyter.widget-view+json": {
       "model_id": "7daa9239ed114fdda5c177b1cd2c7d2e",
       "version_major": 2,
       "version_minor": 0
      },
      "text/plain": [
       "Epoch 2: 0it [00:00, ?it/s]"
      ]
     },
     "metadata": {},
     "output_type": "display_data"
    },
    {
     "name": "stdout",
     "output_type": "stream",
     "text": [
      "Train loss: 13.595\n",
      "Validation loss: 13.644\n"
     ]
    },
    {
     "data": {
      "application/vnd.jupyter.widget-view+json": {
       "model_id": "9a4f98f8f9e644d99bc6ba5d57a0f6b2",
       "version_major": 2,
       "version_minor": 0
      },
      "text/plain": [
       "Epoch 3: 0it [00:00, ?it/s]"
      ]
     },
     "metadata": {},
     "output_type": "display_data"
    },
    {
     "name": "stdout",
     "output_type": "stream",
     "text": [
      "Train loss: 13.326\n",
      "Validation loss: 14.183\n"
     ]
    },
    {
     "data": {
      "application/vnd.jupyter.widget-view+json": {
       "model_id": "05fa03f549cc4e128c06c79318f2978e",
       "version_major": 2,
       "version_minor": 0
      },
      "text/plain": [
       "Epoch 4: 0it [00:00, ?it/s]"
      ]
     },
     "metadata": {},
     "output_type": "display_data"
    },
    {
     "name": "stdout",
     "output_type": "stream",
     "text": [
      "Train loss: 13.543\n",
      "Validation loss: 13.781\n"
     ]
    },
    {
     "data": {
      "application/vnd.jupyter.widget-view+json": {
       "model_id": "fdde75cfbd4f4057a59ea5985dcd4619",
       "version_major": 2,
       "version_minor": 0
      },
      "text/plain": [
       "Epoch 5: 0it [00:00, ?it/s]"
      ]
     },
     "metadata": {},
     "output_type": "display_data"
    },
    {
     "name": "stdout",
     "output_type": "stream",
     "text": [
      "Train loss: 13.335\n",
      "Validation loss: 13.853\n"
     ]
    },
    {
     "data": {
      "application/vnd.jupyter.widget-view+json": {
       "model_id": "8934725a4d694c87963bfffa089df421",
       "version_major": 2,
       "version_minor": 0
      },
      "text/plain": [
       "Epoch 6: 0it [00:00, ?it/s]"
      ]
     },
     "metadata": {},
     "output_type": "display_data"
    },
    {
     "name": "stdout",
     "output_type": "stream",
     "text": [
      "Train loss: 13.597\n",
      "Validation loss: 14.431\n"
     ]
    },
    {
     "data": {
      "application/vnd.jupyter.widget-view+json": {
       "model_id": "243b01dd730646339a88135e60ca0bdd",
       "version_major": 2,
       "version_minor": 0
      },
      "text/plain": [
       "Epoch 7: 0it [00:00, ?it/s]"
      ]
     },
     "metadata": {},
     "output_type": "display_data"
    },
    {
     "name": "stdout",
     "output_type": "stream",
     "text": [
      "Train loss: 13.353\n",
      "Validation loss: 13.626\n"
     ]
    },
    {
     "data": {
      "application/vnd.jupyter.widget-view+json": {
       "model_id": "b225302ff20f4e3fb84b9f6678060954",
       "version_major": 2,
       "version_minor": 0
      },
      "text/plain": [
       "Epoch 8: 0it [00:00, ?it/s]"
      ]
     },
     "metadata": {},
     "output_type": "display_data"
    },
    {
     "name": "stdout",
     "output_type": "stream",
     "text": [
      "Train loss: 13.354\n",
      "Validation loss: 13.716\n"
     ]
    },
    {
     "data": {
      "application/vnd.jupyter.widget-view+json": {
       "model_id": "e0e9f62713aa484594a3a050192c252b",
       "version_major": 2,
       "version_minor": 0
      },
      "text/plain": [
       "Epoch 9: 0it [00:00, ?it/s]"
      ]
     },
     "metadata": {},
     "output_type": "display_data"
    },
    {
     "name": "stdout",
     "output_type": "stream",
     "text": [
      "Train loss: 13.018\n",
      "Validation loss: 14.195\n"
     ]
    },
    {
     "data": {
      "application/vnd.jupyter.widget-view+json": {
       "model_id": "23f54d206a624ee58e381ad04bc8697e",
       "version_major": 2,
       "version_minor": 0
      },
      "text/plain": [
       "Epoch 10: 0it [00:00, ?it/s]"
      ]
     },
     "metadata": {},
     "output_type": "display_data"
    },
    {
     "name": "stdout",
     "output_type": "stream",
     "text": [
      "Train loss: 13.867\n",
      "Validation loss: 13.643\n"
     ]
    },
    {
     "data": {
      "application/vnd.jupyter.widget-view+json": {
       "model_id": "dacf9a65fbd14ae9ba57d23eb33683bc",
       "version_major": 2,
       "version_minor": 0
      },
      "text/plain": [
       "Epoch 11: 0it [00:00, ?it/s]"
      ]
     },
     "metadata": {},
     "output_type": "display_data"
    },
    {
     "name": "stdout",
     "output_type": "stream",
     "text": [
      "Train loss: 13.259\n",
      "Validation loss: 13.865\n"
     ]
    },
    {
     "data": {
      "application/vnd.jupyter.widget-view+json": {
       "model_id": "95cbc253010e44babdc91b8a8cfd3fe5",
       "version_major": 2,
       "version_minor": 0
      },
      "text/plain": [
       "Epoch 12: 0it [00:00, ?it/s]"
      ]
     },
     "metadata": {},
     "output_type": "display_data"
    },
    {
     "name": "stdout",
     "output_type": "stream",
     "text": [
      "Train loss: 13.547\n",
      "Validation loss: 14.235\n"
     ]
    },
    {
     "data": {
      "application/vnd.jupyter.widget-view+json": {
       "model_id": "4156ed69332b4e4187f7cabd0e22256b",
       "version_major": 2,
       "version_minor": 0
      },
      "text/plain": [
       "Epoch 13: 0it [00:00, ?it/s]"
      ]
     },
     "metadata": {},
     "output_type": "display_data"
    },
    {
     "name": "stdout",
     "output_type": "stream",
     "text": [
      "Train loss: 13.166\n",
      "Validation loss: 13.697\n"
     ]
    },
    {
     "data": {
      "application/vnd.jupyter.widget-view+json": {
       "model_id": "3826564956f84214838ee5674a3d4800",
       "version_major": 2,
       "version_minor": 0
      },
      "text/plain": [
       "Epoch 14: 0it [00:00, ?it/s]"
      ]
     },
     "metadata": {},
     "output_type": "display_data"
    },
    {
     "name": "stdout",
     "output_type": "stream",
     "text": [
      "Train loss: 13.310\n",
      "Validation loss: 13.295\n"
     ]
    },
    {
     "data": {
      "application/vnd.jupyter.widget-view+json": {
       "model_id": "9954a9f1acf0495d86dce9341cc32725",
       "version_major": 2,
       "version_minor": 0
      },
      "text/plain": [
       "Epoch 15: 0it [00:00, ?it/s]"
      ]
     },
     "metadata": {},
     "output_type": "display_data"
    },
    {
     "name": "stdout",
     "output_type": "stream",
     "text": [
      "Train loss: 13.622\n",
      "Validation loss: 13.674\n"
     ]
    },
    {
     "data": {
      "application/vnd.jupyter.widget-view+json": {
       "model_id": "b80bb6487565426797a4e153b81e3fc8",
       "version_major": 2,
       "version_minor": 0
      },
      "text/plain": [
       "Epoch 16: 0it [00:00, ?it/s]"
      ]
     },
     "metadata": {},
     "output_type": "display_data"
    },
    {
     "name": "stdout",
     "output_type": "stream",
     "text": [
      "Train loss: 13.286\n",
      "Validation loss: 13.408\n"
     ]
    },
    {
     "data": {
      "application/vnd.jupyter.widget-view+json": {
       "model_id": "cf69bda2f8484c278e54b01c30ec65f8",
       "version_major": 2,
       "version_minor": 0
      },
      "text/plain": [
       "Epoch 17: 0it [00:00, ?it/s]"
      ]
     },
     "metadata": {},
     "output_type": "display_data"
    },
    {
     "name": "stdout",
     "output_type": "stream",
     "text": [
      "Train loss: 13.610\n",
      "Validation loss: 13.525\n"
     ]
    },
    {
     "data": {
      "application/vnd.jupyter.widget-view+json": {
       "model_id": "5c70425a22734e67b96cfb33a312c4ab",
       "version_major": 2,
       "version_minor": 0
      },
      "text/plain": [
       "Epoch 18: 0it [00:00, ?it/s]"
      ]
     },
     "metadata": {},
     "output_type": "display_data"
    },
    {
     "name": "stdout",
     "output_type": "stream",
     "text": [
      "Train loss: 13.409\n",
      "Validation loss: 13.398\n"
     ]
    },
    {
     "data": {
      "application/vnd.jupyter.widget-view+json": {
       "model_id": "d38007cf14f845fd94e8aada307bf342",
       "version_major": 2,
       "version_minor": 0
      },
      "text/plain": [
       "Epoch 19: 0it [00:00, ?it/s]"
      ]
     },
     "metadata": {},
     "output_type": "display_data"
    },
    {
     "name": "stdout",
     "output_type": "stream",
     "text": [
      "Train loss: 12.825\n",
      "Validation loss: 13.667\n"
     ]
    },
    {
     "data": {
      "application/vnd.jupyter.widget-view+json": {
       "model_id": "014d0d3eba4b493283753490c807fc63",
       "version_major": 2,
       "version_minor": 0
      },
      "text/plain": [
       "Epoch 20: 0it [00:00, ?it/s]"
      ]
     },
     "metadata": {},
     "output_type": "display_data"
    },
    {
     "name": "stdout",
     "output_type": "stream",
     "text": [
      "Train loss: 13.179\n",
      "Validation loss: 13.757\n"
     ]
    },
    {
     "data": {
      "application/vnd.jupyter.widget-view+json": {
       "model_id": "30d9921e356e4c14aeaa0bc3094c49ef",
       "version_major": 2,
       "version_minor": 0
      },
      "text/plain": [
       "Epoch 21: 0it [00:00, ?it/s]"
      ]
     },
     "metadata": {},
     "output_type": "display_data"
    },
    {
     "name": "stdout",
     "output_type": "stream",
     "text": [
      "Train loss: 13.012\n",
      "Validation loss: 13.469\n"
     ]
    },
    {
     "data": {
      "application/vnd.jupyter.widget-view+json": {
       "model_id": "fe712a7ee9c643c3a3b20bb7b9b95227",
       "version_major": 2,
       "version_minor": 0
      },
      "text/plain": [
       "Epoch 22: 0it [00:00, ?it/s]"
      ]
     },
     "metadata": {},
     "output_type": "display_data"
    },
    {
     "name": "stdout",
     "output_type": "stream",
     "text": [
      "Train loss: 13.246\n",
      "Validation loss: 13.606\n"
     ]
    },
    {
     "data": {
      "application/vnd.jupyter.widget-view+json": {
       "model_id": "443abb7ee8354952945a9cebfca879fa",
       "version_major": 2,
       "version_minor": 0
      },
      "text/plain": [
       "Epoch 23: 0it [00:00, ?it/s]"
      ]
     },
     "metadata": {},
     "output_type": "display_data"
    },
    {
     "name": "stdout",
     "output_type": "stream",
     "text": [
      "Train loss: 13.317\n",
      "Validation loss: 13.242\n"
     ]
    },
    {
     "data": {
      "application/vnd.jupyter.widget-view+json": {
       "model_id": "e75f4a8c9ac740d282f24879aa44a691",
       "version_major": 2,
       "version_minor": 0
      },
      "text/plain": [
       "Epoch 24: 0it [00:00, ?it/s]"
      ]
     },
     "metadata": {},
     "output_type": "display_data"
    },
    {
     "name": "stdout",
     "output_type": "stream",
     "text": [
      "Train loss: 12.821\n",
      "Validation loss: 13.408\n"
     ]
    },
    {
     "data": {
      "application/vnd.jupyter.widget-view+json": {
       "model_id": "9e0d0fa9f5704832ae832b9f5740654f",
       "version_major": 2,
       "version_minor": 0
      },
      "text/plain": [
       "Epoch 25: 0it [00:00, ?it/s]"
      ]
     },
     "metadata": {},
     "output_type": "display_data"
    },
    {
     "name": "stdout",
     "output_type": "stream",
     "text": [
      "Train loss: 12.826\n",
      "Validation loss: 13.499\n"
     ]
    },
    {
     "data": {
      "application/vnd.jupyter.widget-view+json": {
       "model_id": "73831aa907f64dafbdd6a61d659dfb01",
       "version_major": 2,
       "version_minor": 0
      },
      "text/plain": [
       "Epoch 26: 0it [00:00, ?it/s]"
      ]
     },
     "metadata": {},
     "output_type": "display_data"
    },
    {
     "name": "stdout",
     "output_type": "stream",
     "text": [
      "Train loss: 12.970\n",
      "Validation loss: 13.432\n"
     ]
    },
    {
     "data": {
      "application/vnd.jupyter.widget-view+json": {
       "model_id": "2e28056ee20c4cffa7df1baa648569d8",
       "version_major": 2,
       "version_minor": 0
      },
      "text/plain": [
       "Epoch 27: 0it [00:00, ?it/s]"
      ]
     },
     "metadata": {},
     "output_type": "display_data"
    },
    {
     "name": "stdout",
     "output_type": "stream",
     "text": [
      "Train loss: 13.221\n",
      "Validation loss: 13.109\n"
     ]
    },
    {
     "data": {
      "application/vnd.jupyter.widget-view+json": {
       "model_id": "cd4e91b28443481da75738889df7aa3c",
       "version_major": 2,
       "version_minor": 0
      },
      "text/plain": [
       "Epoch 28: 0it [00:00, ?it/s]"
      ]
     },
     "metadata": {},
     "output_type": "display_data"
    },
    {
     "name": "stdout",
     "output_type": "stream",
     "text": [
      "Train loss: 13.033\n",
      "Validation loss: 13.262\n"
     ]
    },
    {
     "data": {
      "application/vnd.jupyter.widget-view+json": {
       "model_id": "d200ca65b9234018b7795db97f5cd321",
       "version_major": 2,
       "version_minor": 0
      },
      "text/plain": [
       "Epoch 29: 0it [00:00, ?it/s]"
      ]
     },
     "metadata": {},
     "output_type": "display_data"
    },
    {
     "name": "stdout",
     "output_type": "stream",
     "text": [
      "Train loss: 12.960\n",
      "Validation loss: 13.641\n"
     ]
    },
    {
     "data": {
      "application/vnd.jupyter.widget-view+json": {
       "model_id": "36f907809f2941f0a21f8dc7abb67f07",
       "version_major": 2,
       "version_minor": 0
      },
      "text/plain": [
       "Epoch 30: 0it [00:00, ?it/s]"
      ]
     },
     "metadata": {},
     "output_type": "display_data"
    },
    {
     "name": "stdout",
     "output_type": "stream",
     "text": [
      "Train loss: 13.132\n",
      "Validation loss: 13.765\n"
     ]
    },
    {
     "data": {
      "application/vnd.jupyter.widget-view+json": {
       "model_id": "4a121c492f8c4363a19bcfc391134216",
       "version_major": 2,
       "version_minor": 0
      },
      "text/plain": [
       "Epoch 31: 0it [00:00, ?it/s]"
      ]
     },
     "metadata": {},
     "output_type": "display_data"
    },
    {
     "name": "stdout",
     "output_type": "stream",
     "text": [
      "Train loss: 12.826\n",
      "Validation loss: 13.551\n"
     ]
    },
    {
     "data": {
      "application/vnd.jupyter.widget-view+json": {
       "model_id": "07e4863a6dce42f2b794562398e7ba52",
       "version_major": 2,
       "version_minor": 0
      },
      "text/plain": [
       "Epoch 32: 0it [00:00, ?it/s]"
      ]
     },
     "metadata": {},
     "output_type": "display_data"
    },
    {
     "name": "stdout",
     "output_type": "stream",
     "text": [
      "Train loss: 13.010\n",
      "Validation loss: 13.493\n"
     ]
    },
    {
     "data": {
      "application/vnd.jupyter.widget-view+json": {
       "model_id": "1324b6b52488480092c9d17bf7384713",
       "version_major": 2,
       "version_minor": 0
      },
      "text/plain": [
       "Epoch 33: 0it [00:00, ?it/s]"
      ]
     },
     "metadata": {},
     "output_type": "display_data"
    },
    {
     "name": "stdout",
     "output_type": "stream",
     "text": [
      "Train loss: 12.882\n",
      "Validation loss: 13.523\n"
     ]
    },
    {
     "data": {
      "application/vnd.jupyter.widget-view+json": {
       "model_id": "9ce2d8313300463aa07f96d831ece412",
       "version_major": 2,
       "version_minor": 0
      },
      "text/plain": [
       "Epoch 34: 0it [00:00, ?it/s]"
      ]
     },
     "metadata": {},
     "output_type": "display_data"
    },
    {
     "name": "stdout",
     "output_type": "stream",
     "text": [
      "Train loss: 12.629\n",
      "Validation loss: 13.766\n"
     ]
    },
    {
     "data": {
      "application/vnd.jupyter.widget-view+json": {
       "model_id": "34e044d1cabd47a09b67d3c6a9c1adc1",
       "version_major": 2,
       "version_minor": 0
      },
      "text/plain": [
       "Epoch 35: 0it [00:00, ?it/s]"
      ]
     },
     "metadata": {},
     "output_type": "display_data"
    },
    {
     "name": "stdout",
     "output_type": "stream",
     "text": [
      "Train loss: 13.092\n",
      "Validation loss: 13.409\n"
     ]
    },
    {
     "data": {
      "application/vnd.jupyter.widget-view+json": {
       "model_id": "355da07dd6654139a0678c995a3af20b",
       "version_major": 2,
       "version_minor": 0
      },
      "text/plain": [
       "Epoch 36: 0it [00:00, ?it/s]"
      ]
     },
     "metadata": {},
     "output_type": "display_data"
    },
    {
     "name": "stdout",
     "output_type": "stream",
     "text": [
      "Train loss: 13.094\n",
      "Validation loss: 13.688\n"
     ]
    },
    {
     "data": {
      "application/vnd.jupyter.widget-view+json": {
       "model_id": "df9436a22a504c6ea7dd83c88aafa0fd",
       "version_major": 2,
       "version_minor": 0
      },
      "text/plain": [
       "Epoch 37: 0it [00:00, ?it/s]"
      ]
     },
     "metadata": {},
     "output_type": "display_data"
    },
    {
     "name": "stdout",
     "output_type": "stream",
     "text": [
      "Train loss: 12.874\n",
      "Validation loss: 13.135\n"
     ]
    },
    {
     "data": {
      "application/vnd.jupyter.widget-view+json": {
       "model_id": "fae2a7975aac4525a425d40bd40f5bf7",
       "version_major": 2,
       "version_minor": 0
      },
      "text/plain": [
       "Epoch 38: 0it [00:00, ?it/s]"
      ]
     },
     "metadata": {},
     "output_type": "display_data"
    },
    {
     "name": "stdout",
     "output_type": "stream",
     "text": [
      "Train loss: 12.847\n",
      "Validation loss: 13.770\n"
     ]
    },
    {
     "data": {
      "application/vnd.jupyter.widget-view+json": {
       "model_id": "a464dc5ed1a44d44aae369b8d60c70b1",
       "version_major": 2,
       "version_minor": 0
      },
      "text/plain": [
       "Epoch 39: 0it [00:00, ?it/s]"
      ]
     },
     "metadata": {},
     "output_type": "display_data"
    },
    {
     "name": "stdout",
     "output_type": "stream",
     "text": [
      "Train loss: 12.865\n",
      "Validation loss: 13.781\n"
     ]
    },
    {
     "data": {
      "application/vnd.jupyter.widget-view+json": {
       "model_id": "24ce49b70e744a298e6bd31a4a4f1991",
       "version_major": 2,
       "version_minor": 0
      },
      "text/plain": [
       "Epoch 40: 0it [00:00, ?it/s]"
      ]
     },
     "metadata": {},
     "output_type": "display_data"
    },
    {
     "name": "stdout",
     "output_type": "stream",
     "text": [
      "Train loss: 12.779\n",
      "Validation loss: 13.469\n"
     ]
    },
    {
     "data": {
      "application/vnd.jupyter.widget-view+json": {
       "model_id": "3d85dfb4bd074049b5c922766471b685",
       "version_major": 2,
       "version_minor": 0
      },
      "text/plain": [
       "Epoch 41: 0it [00:00, ?it/s]"
      ]
     },
     "metadata": {},
     "output_type": "display_data"
    },
    {
     "name": "stdout",
     "output_type": "stream",
     "text": [
      "Train loss: 12.797\n",
      "Validation loss: 13.358\n"
     ]
    },
    {
     "data": {
      "application/vnd.jupyter.widget-view+json": {
       "model_id": "05815b6ff1f34b81874465326958ea9a",
       "version_major": 2,
       "version_minor": 0
      },
      "text/plain": [
       "Epoch 42: 0it [00:00, ?it/s]"
      ]
     },
     "metadata": {},
     "output_type": "display_data"
    },
    {
     "name": "stdout",
     "output_type": "stream",
     "text": [
      "Train loss: 12.828\n",
      "Validation loss: 13.205\n"
     ]
    },
    {
     "data": {
      "application/vnd.jupyter.widget-view+json": {
       "model_id": "bcb7012189cc4e07b9d64cc63ccb4fd0",
       "version_major": 2,
       "version_minor": 0
      },
      "text/plain": [
       "Epoch 43: 0it [00:00, ?it/s]"
      ]
     },
     "metadata": {},
     "output_type": "display_data"
    },
    {
     "name": "stdout",
     "output_type": "stream",
     "text": [
      "Train loss: 12.213\n",
      "Validation loss: 12.840\n"
     ]
    },
    {
     "data": {
      "application/vnd.jupyter.widget-view+json": {
       "model_id": "7f6949e035ff42948a8d19615521d6c1",
       "version_major": 2,
       "version_minor": 0
      },
      "text/plain": [
       "Epoch 44: 0it [00:00, ?it/s]"
      ]
     },
     "metadata": {},
     "output_type": "display_data"
    },
    {
     "name": "stdout",
     "output_type": "stream",
     "text": [
      "Train loss: 12.822\n",
      "Validation loss: 13.435\n"
     ]
    },
    {
     "data": {
      "application/vnd.jupyter.widget-view+json": {
       "model_id": "df99a8ee033a4a31b51e5c42e2edf99f",
       "version_major": 2,
       "version_minor": 0
      },
      "text/plain": [
       "Epoch 45: 0it [00:00, ?it/s]"
      ]
     },
     "metadata": {},
     "output_type": "display_data"
    },
    {
     "name": "stdout",
     "output_type": "stream",
     "text": [
      "Train loss: 12.770\n",
      "Validation loss: 13.031\n"
     ]
    },
    {
     "data": {
      "application/vnd.jupyter.widget-view+json": {
       "model_id": "15f9b024bcbf4b5da7b4ac15b7057902",
       "version_major": 2,
       "version_minor": 0
      },
      "text/plain": [
       "Epoch 46: 0it [00:00, ?it/s]"
      ]
     },
     "metadata": {},
     "output_type": "display_data"
    },
    {
     "name": "stdout",
     "output_type": "stream",
     "text": [
      "Train loss: 12.680\n",
      "Validation loss: 13.199\n"
     ]
    },
    {
     "data": {
      "application/vnd.jupyter.widget-view+json": {
       "model_id": "cc934bf9c4334e3887c355943d73c6b3",
       "version_major": 2,
       "version_minor": 0
      },
      "text/plain": [
       "Epoch 47: 0it [00:00, ?it/s]"
      ]
     },
     "metadata": {},
     "output_type": "display_data"
    },
    {
     "name": "stdout",
     "output_type": "stream",
     "text": [
      "Train loss: 12.881\n",
      "Validation loss: 13.515\n"
     ]
    },
    {
     "data": {
      "application/vnd.jupyter.widget-view+json": {
       "model_id": "c89754139bee483a8352314b0694fba1",
       "version_major": 2,
       "version_minor": 0
      },
      "text/plain": [
       "Epoch 48: 0it [00:00, ?it/s]"
      ]
     },
     "metadata": {},
     "output_type": "display_data"
    },
    {
     "name": "stdout",
     "output_type": "stream",
     "text": [
      "Train loss: 12.700\n",
      "Validation loss: 13.190\n"
     ]
    },
    {
     "data": {
      "application/vnd.jupyter.widget-view+json": {
       "model_id": "f42ea07b3a9b4e16b843f7e96ceadbc6",
       "version_major": 2,
       "version_minor": 0
      },
      "text/plain": [
       "Epoch 49: 0it [00:00, ?it/s]"
      ]
     },
     "metadata": {},
     "output_type": "display_data"
    },
    {
     "name": "stdout",
     "output_type": "stream",
     "text": [
      "Train loss: 12.553\n",
      "Validation loss: 12.864\n"
     ]
    },
    {
     "data": {
      "application/vnd.jupyter.widget-view+json": {
       "model_id": "6b90dae8b69f4dc0bf1c82d40d31ff45",
       "version_major": 2,
       "version_minor": 0
      },
      "text/plain": [
       "  0%|          | 0/3 [00:00<?, ?it/s]"
      ]
     },
     "metadata": {},
     "output_type": "display_data"
    },
    {
     "name": "stdout",
     "output_type": "stream",
     "text": [
      "Test loss: 11.521\n"
     ]
    }
   ],
   "source": [
    "default_logdir = \"runs\"\n",
    "run_name = \"paper_config\"\n",
    "\n",
    "with open(\"configs/paper_config.yaml\", \"r\") as file:\n",
    "    config = yaml.safe_load(file)\n",
    "    trainer = InteractiveTrainer(config, log=True, logdir=f\"{default_logdir}/{run_name}\")\n",
    "    trainer.train()\n",
    "    trainer.test()"
   ]
  },
  {
   "cell_type": "markdown",
   "metadata": {},
   "source": [
    "### Inspecting the Dataset \n",
    "Check for city instances where the task is easy."
   ]
  },
  {
   "cell_type": "code",
   "execution_count": 90,
   "metadata": {},
   "outputs": [],
   "source": [
    "import pickle\n",
    "from src.city import SimpleDirectedGraph, Vertex, Edge\n",
    "\n",
    "def get_outgoing_edges(vertex: Vertex, graph: SimpleDirectedGraph, sol: list[int]) -> list[Edge]:\n",
    "    result = []\n",
    "\n",
    "    for i, e in enumerate(graph.get_edges()):\n",
    "        if e.from_vertex == vertex and sol[i] == 1:\n",
    "            result.append(e)\n",
    "\n",
    "    return result\n",
    "\n",
    "def check_easy_problems(data_path: str, config_path: str, with_city: bool):\n",
    "    with open(config_path, \"rb\") as file:\n",
    "        config = yaml.safe_load(file)\n",
    "        print(f\"config args: {config}\")\n",
    "\n",
    "\n",
    "    with open(data_path, \"rb\") as file:\n",
    "        data = pickle.load(file)\n",
    "        Y = data[\"Y\"]\n",
    "        graphs: SimpleDirectedGraph = list(map(lambda city: city.graph, data[\"cities\"])) if with_city else data[\"graphs\"]\n",
    "\n",
    "    counter = 0\n",
    "\n",
    "    for _, (g, s) in enumerate(zip(graphs, Y)):\n",
    "        if len(get_outgoing_edges(g.get_source(), g, s)) == len(g.get_vertices())-2 or \\\n",
    "           len(get_outgoing_edges(g.get_source(), g, s)) == 1:\n",
    "            counter += 1\n",
    "\n",
    "    print(f\"percentage easy problems: {counter/len(graphs)*100}\")\n",
    "\n",
    "\n",
    "def get_paths(data_path: str, config_path: str, with_city: bool):\n",
    "    with open(config_path, \"rb\") as file:\n",
    "        config = yaml.safe_load(file)\n",
    "        print(f\"config args: {config}\")\n",
    "\n",
    "\n",
    "    with open(data_path, \"rb\") as file:\n",
    "        data = pickle.load(file)\n",
    "        X = data[\"X\"]\n",
    "        Y = data[\"Y\"]\n",
    "        graphs: list[SimpleDirectedGraph] = list(map(lambda city: city.graph, data[\"cities\"])) if with_city else data[\"graphs\"]\n",
    "\n",
    "    for i in range(len(data)):\n",
    "        print(f\"\\n---------- City {i} ----------\")\n",
    "        \n",
    "        # get graph props\n",
    "        G = graphs[i]\n",
    "        E = list(G.get_edges())\n",
    "        edge_enum = list(enumerate(E))\n",
    "        sol = Y[i]\n",
    "        src_node = G.get_source()\n",
    "        sink_node = G.get_sink()\n",
    "        out_edges = get_outgoing_edges(src_node, G, sol)\n",
    "        n_paths = len(out_edges)\n",
    "        paths = {f\"path_{n}\": [out_edges[n]] for n in range(n_paths)}\n",
    "        print(\"num vehicles: \", n_paths)\n",
    "\n",
    "        # dfs to find paths\n",
    "        for n in range(n_paths):\n",
    "            e = out_edges[n]\n",
    "            while not e.to_vertex == sink_node:\n",
    "                next_out_edges = list(filter(lambda edge_enum: edge_enum[1].from_vertex == e.to_vertex, edge_enum))\n",
    "                next_edges = list(filter(lambda edge_enum: sol[edge_enum[0]] == 1, next_out_edges))\n",
    "                assert len(next_edges) == 1 # the path should be distinct\n",
    "                e = next_edges[0][1]\n",
    "                paths[f\"path_{n}\"].append(e)\n",
    "                \n",
    "            print(f\"path of vehicle {n}: \", [ee.name for ee in paths[f\"path_{n}\"]])"
   ]
  },
  {
   "cell_type": "code",
   "execution_count": 68,
   "metadata": {},
   "outputs": [
    {
     "name": "stdout",
     "output_type": "stream",
     "text": [
      "config args: {'data': {'path': 'data/test.pkl', 'city': True, 'split': {'train': 0.34, 'val': 0.33, 'test': 0.33}}, 'train': {'criterion': {'name': 'FenchelYoungLoss', 'args': {'batched': False, 'maximize': False, 'sigma': 0.1, 'num_samples': 100}}, 'batch_size': 1, 'metrics': {'train_and_validation': None, 'train': None, 'validation': None}, 'optimizer': {'name': 'AdamW', 'args': None}, 'n_epochs': 200, 'save_every_n_epochs': 50, 'save_dir': 'models/10tasks5scenarios', 'eval_every_n_epochs': 1}, 'model': {'name': 'FenchelYoungGLM', 'args': {'n_features': 20}}}\n",
      "percentage easy problems: 0.0\n"
     ]
    }
   ],
   "source": [
    "# tune hyperparameters to check factor of easy instances\n",
    "check_easy_problems(data_path=\"data/paper_config.pkl\",\n",
    "                    config_path=\"configs/paper_config.yaml\",\n",
    "                    with_city=True)"
   ]
  },
  {
   "cell_type": "markdown",
   "metadata": {},
   "source": [
    "Show the solution paths of the dataset. Each color indicates one vehicle.\n"
   ]
  },
  {
   "cell_type": "code",
   "execution_count": 89,
   "metadata": {},
   "outputs": [
    {
     "name": "stdout",
     "output_type": "stream",
     "text": [
      "config args: {'data': {'path': 'data/test.pkl', 'city': True, 'split': {'train': 0.34, 'val': 0.33, 'test': 0.33}}, 'train': {'criterion': {'name': 'FenchelYoungLoss', 'args': {'batched': False, 'maximize': False, 'sigma': 0.1, 'num_samples': 100}}, 'batch_size': 1, 'metrics': {'train_and_validation': None, 'train': None, 'validation': None}, 'optimizer': {'name': 'AdamW', 'args': None}, 'n_epochs': 200, 'save_every_n_epochs': 50, 'save_dir': 'models/10tasks5scenarios', 'eval_every_n_epochs': 1}, 'model': {'name': 'FenchelYoungGLM', 'args': {'n_features': 20}}}\n",
      "\n",
      "---------- City 0 ----------\n",
      "num vehicles:  9\n",
      "edge 25->0: \n",
      "path of vehicle 0:  ['25->0', '0->9', '9->26']\n",
      "edge 25->1: \n",
      "path of vehicle 1:  ['25->1', '1->2', '2->3', '3->26']\n",
      "edge 25->4: \n",
      "path of vehicle 2:  ['25->4', '4->5', '5->14', '14->16', '16->26']\n",
      "edge 25->6: \n",
      "path of vehicle 3:  ['25->6', '6->19', '19->26']\n",
      "edge 25->7: \n",
      "path of vehicle 4:  ['25->7', '7->11', '11->26']\n",
      "edge 25->8: \n",
      "path of vehicle 5:  ['25->8', '8->10', '10->12', '12->18', '18->26']\n",
      "edge 25->13: \n",
      "path of vehicle 6:  ['25->13', '13->17', '17->20', '20->22', '22->26']\n",
      "edge 25->15: \n",
      "path of vehicle 7:  ['25->15', '15->21', '21->23', '23->26']\n",
      "edge 25->24: \n",
      "path of vehicle 8:  ['25->24', '24->26']\n",
      "\n",
      "---------- City 1 ----------\n",
      "num vehicles:  8\n",
      "edge 25->0: \n",
      "path of vehicle 0:  ['25->0', '0->2', '2->26']\n",
      "edge 25->1: \n",
      "path of vehicle 1:  ['25->1', '1->21', '21->24', '24->26']\n",
      "edge 25->3: \n",
      "path of vehicle 2:  ['25->3', '3->14', '14->16', '16->26']\n",
      "edge 25->4: \n",
      "path of vehicle 3:  ['25->4', '4->6', '6->26']\n",
      "edge 25->5: \n",
      "path of vehicle 4:  ['25->5', '5->8', '8->9', '9->15', '15->26']\n",
      "edge 25->7: \n",
      "path of vehicle 5:  ['25->7', '7->10', '10->13', '13->19', '19->26']\n",
      "edge 25->11: \n",
      "path of vehicle 6:  ['25->11', '11->12', '12->17', '17->23', '23->26']\n",
      "edge 25->18: \n",
      "path of vehicle 7:  ['25->18', '18->20', '20->22', '22->26']\n",
      "\n",
      "---------- City 2 ----------\n",
      "num vehicles:  8\n",
      "edge 25->0: \n",
      "path of vehicle 0:  ['25->0', '0->6', '6->10', '10->11', '11->26']\n",
      "edge 25->1: \n",
      "path of vehicle 1:  ['25->1', '1->18', '18->19', '19->26']\n",
      "edge 25->2: \n",
      "path of vehicle 2:  ['25->2', '2->7', '7->13', '13->26']\n",
      "edge 25->3: \n",
      "path of vehicle 3:  ['25->3', '3->8', '8->17', '17->26']\n",
      "edge 25->4: \n",
      "path of vehicle 4:  ['25->4', '4->5', '5->14', '14->16', '16->26']\n",
      "edge 25->9: \n",
      "path of vehicle 5:  ['25->9', '9->15', '15->20', '20->26']\n",
      "edge 25->12: \n",
      "path of vehicle 6:  ['25->12', '12->22', '22->26']\n",
      "edge 25->21: \n",
      "path of vehicle 7:  ['25->21', '21->23', '23->24', '24->26']\n",
      "\n",
      "---------- City 3 ----------\n",
      "num vehicles:  10\n",
      "edge 25->0: \n",
      "path of vehicle 0:  ['25->0', '0->4', '4->26']\n",
      "edge 25->1: \n",
      "path of vehicle 1:  ['25->1', '1->3', '3->11', '11->13', '13->26']\n",
      "edge 25->2: \n",
      "path of vehicle 2:  ['25->2', '2->5', '5->6', '6->15', '15->26']\n",
      "edge 25->7: \n",
      "path of vehicle 3:  ['25->7', '7->17', '17->26']\n",
      "edge 25->8: \n",
      "path of vehicle 4:  ['25->8', '8->12', '12->14', '14->19', '19->22', '22->26']\n",
      "edge 25->9: \n",
      "path of vehicle 5:  ['25->9', '9->16', '16->26']\n",
      "edge 25->10: \n",
      "path of vehicle 6:  ['25->10', '10->20', '20->26']\n",
      "edge 25->18: \n",
      "path of vehicle 7:  ['25->18', '18->26']\n",
      "edge 25->21: \n",
      "path of vehicle 8:  ['25->21', '21->24', '24->26']\n",
      "edge 25->23: \n",
      "path of vehicle 9:  ['25->23', '23->26']\n"
     ]
    }
   ],
   "source": [
    "get_paths(data_path=\"data/paper_config.pkl\",\n",
    "          config_path=\"configs/paper_config.yaml\",\n",
    "          with_city=True)\n",
    "        "
   ]
  }
 ],
 "metadata": {
  "kernelspec": {
   "display_name": "Python 3",
   "language": "python",
   "name": "python3"
  },
  "language_info": {
   "codemirror_mode": {
    "name": "ipython",
    "version": 3
   },
   "file_extension": ".py",
   "mimetype": "text/x-python",
   "name": "python",
   "nbconvert_exporter": "python",
   "pygments_lexer": "ipython3",
   "version": "3.9.6"
  }
 },
 "nbformat": 4,
 "nbformat_minor": 2
}
