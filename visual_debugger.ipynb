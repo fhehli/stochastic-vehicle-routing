{
 "cells": [
  {
   "cell_type": "code",
   "execution_count": 10,
   "metadata": {},
   "outputs": [],
   "source": [
    "import sys\n",
    "import os\n",
    "\n",
    "module_path = os.path.join(os.path.abspath(os.getcwd()))\n",
    "if module_path not in sys.path:\n",
    "    sys.path.append(module_path)"
   ]
  },
  {
   "cell_type": "code",
   "execution_count": 20,
   "metadata": {},
   "outputs": [
    {
     "name": "stderr",
     "output_type": "stream",
     "text": [
      "Traceback (most recent call last):\n",
      "  File \"/Users/hxi/University/PMLR/stochastic-vehicle-routing/src/dataset_creator.py\", line 5, in <module>\n",
      "    from src.city import City\n",
      "ModuleNotFoundError: No module named 'src'\n"
     ]
    },
    {
     "data": {
      "text/plain": [
       "256"
      ]
     },
     "execution_count": 20,
     "metadata": {},
     "output_type": "execute_result"
    }
   ],
   "source": [
    "# create dataset\n",
    "!cd src && python3 dataset_creator.py --city --n_samples 5 --n_tasks 4 --out_file ../data/test.pkl"
   ]
  },
  {
   "cell_type": "code",
   "execution_count": 24,
   "metadata": {},
   "outputs": [],
   "source": [
    "from functools import partial\n",
    "from pathlib import Path\n",
    "\n",
    "import numpy as np\n",
    "import torch\n",
    "from tqdm.auto import tqdm\n",
    "from torch.utils.tensorboard import SummaryWriter\n",
    "\n",
    "from src.VSPSolver import solve_vsp\n",
    "from src.utils import get_model, get_criterion, get_optimizer, get_dataloaders\n",
    "from src.city import City, SimpleDirectedGraph\n",
    "from src.visualization_utils import visualize_paths\n",
    "\n",
    "\n",
    "# add simple tensorboard to the trainer to visualize results \n",
    "class InteractiveTrainer:\n",
    "    def __init__(self, config, log=False, **kwargs):\n",
    "        self.config = config\n",
    "        self.device = torch.device(\"cuda:0\" if torch.cuda.is_available() else \"cpu\")\n",
    "\n",
    "        self.model = get_model(config, device=self.device)\n",
    "        self.train_loader, self.val_loader, self.test_loader = get_dataloaders(config)\n",
    "\n",
    "        optimizer_class, optimizer_kwargs = get_optimizer(config)\n",
    "        self.optimizer = optimizer_class(self.model.parameters(), **optimizer_kwargs)\n",
    "\n",
    "        criterion_class, criterion_kwargs = get_criterion(config)\n",
    "        self.criterion = lambda func: criterion_class(func, **criterion_kwargs)\n",
    "\n",
    "        self.n_epochs = config[\"train\"][\"n_epochs\"]\n",
    "        self.eval_every = config[\"train\"][\"eval_every_n_epochs\"]\n",
    "        self.save_every = config[\"train\"][\"save_every_n_epochs\"]\n",
    "        self.save_dir = Path(config[\"train\"][\"save_dir\"])\n",
    "        self.save_dir.mkdir(parents=True, exist_ok=True)\n",
    "        self.with_city = config[\"data\"][\"city\"]\n",
    "        self.writer = SummaryWriter(kwargs[\"logdir\"]) if log else None\n",
    "\n",
    "    # compare all paths to chosen path and SVSP path\n",
    "    def update_log(self, instance, iter: int, loss: float, solution: list[int], labels: list[int], **kwargs):\n",
    "        if isinstance(instance, City):\n",
    "            figure = visualize_paths(instance, solution)\n",
    "            self.writer.add_figure(f\"City/city instance at iter {iter}\", figure)\n",
    "        self.writer.add_scalar(f\"Loss\", loss, iter)\n",
    "\n",
    "    def compute_metrics(self, i):\n",
    "        if i % self.eval_every != 0:\n",
    "            return\n",
    "        losses = []\n",
    "        self.model.eval()\n",
    "        with torch.no_grad():\n",
    "            for inputs, labels, instance in self.val_loader:\n",
    "                graph = instance.graph if self.with_city else instance\n",
    "                inputs = inputs.to(self.device)\n",
    "                labels = labels.to(self.device)\n",
    "\n",
    "                theta = self.model(inputs)\n",
    "                func = partial(solve_vsp, graph=graph)\n",
    "                criterion = self.criterion(func)\n",
    "                loss = criterion(theta, labels).mean()\n",
    "                losses.append(loss.item())\n",
    "\n",
    "        print(f\"Validation loss: {np.mean(losses):.3f}\")\n",
    "\n",
    "    def save_model(self, i):\n",
    "        if i % self.save_every == 0 and i > 0:\n",
    "            torch.save(self.model.state_dict(), self.save_dir / f\"epoch{i}.pt\")\n",
    "\n",
    "    def train_epoch(self, i):\n",
    "        self.model.train()\n",
    "        losses = []\n",
    "        for iter, (inputs, labels, instance) in tqdm(enumerate(self.train_loader), desc=f\"Epoch {i}\"):\n",
    "            graph = instance.graph if self.with_city else instance\n",
    "            inputs = inputs.to(self.device)\n",
    "            labels = labels.to(self.device)\n",
    "\n",
    "            self.optimizer.zero_grad()\n",
    "            theta = self.model(inputs)\n",
    "\n",
    "            func = partial(solve_vsp, graph=graph)\n",
    "            criterion = self.criterion(func)\n",
    "            loss = criterion(theta, labels)\n",
    "            losses.append(loss.item())\n",
    "\n",
    "            # workaround to get single solution from the solver\n",
    "            solution = func(theta.detach().clone().unsqueeze(0))[0]\n",
    "\n",
    "            loss.backward()\n",
    "            self.optimizer.step()\n",
    "\n",
    "            # visual logging here\n",
    "            self.global_steps += 1\n",
    "            self.update_log(instance, self.global_steps, loss, solution, labels)\n",
    "\n",
    "        print(f\"Train loss: {np.mean(losses):.3f}\")\n",
    "\n",
    "    def train(self):\n",
    "        self.global_steps = 0\n",
    "        for i in range(self.n_epochs):\n",
    "            self.train_epoch(i)\n",
    "            self.compute_metrics(i)\n",
    "            self.save_model(i)\n",
    "\n",
    "    def test(self):\n",
    "        self.model.eval()\n",
    "        losses = []\n",
    "        with torch.no_grad():\n",
    "            for inputs, labels, instance in tqdm(self.test_loader):\n",
    "                graph = instance.graph if self.with_city else instance\n",
    "                inputs = inputs.to(self.device)\n",
    "                labels = labels.to(self.device)\n",
    "                theta = self.model(inputs)\n",
    "                func = partial(solve_vsp, graph=graph)\n",
    "                criterion = self.criterion(func)\n",
    "                loss = criterion(theta, labels)\n",
    "                losses.append(loss.item())\n",
    "\n",
    "        print(f\"Test loss: {np.mean(losses):.3f}\")\n"
   ]
  },
  {
   "cell_type": "code",
   "execution_count": 26,
   "metadata": {},
   "outputs": [
    {
     "name": "stdout",
     "output_type": "stream",
     "text": [
      "True\n"
     ]
    },
    {
     "data": {
      "application/vnd.jupyter.widget-view+json": {
       "model_id": "f9728ab2b84443f8ae523fe42e8a9850",
       "version_major": 2,
       "version_minor": 0
      },
      "text/plain": [
       "Epoch 0: 0it [00:00, ?it/s]"
      ]
     },
     "metadata": {},
     "output_type": "display_data"
    },
    {
     "name": "stdout",
     "output_type": "stream",
     "text": [
      "Train loss: 3.193\n",
      "Validation loss: 4.004\n"
     ]
    },
    {
     "data": {
      "application/vnd.jupyter.widget-view+json": {
       "model_id": "cfd6920b31c44784857917c9d9ae8aa0",
       "version_major": 2,
       "version_minor": 0
      },
      "text/plain": [
       "Epoch 1: 0it [00:00, ?it/s]"
      ]
     },
     "metadata": {},
     "output_type": "display_data"
    },
    {
     "name": "stdout",
     "output_type": "stream",
     "text": [
      "Train loss: 3.612\n",
      "Validation loss: 4.012\n"
     ]
    },
    {
     "data": {
      "application/vnd.jupyter.widget-view+json": {
       "model_id": "c19600816b7a4e5787c748ffa361b891",
       "version_major": 2,
       "version_minor": 0
      },
      "text/plain": [
       "Epoch 2: 0it [00:00, ?it/s]"
      ]
     },
     "metadata": {},
     "output_type": "display_data"
    },
    {
     "name": "stdout",
     "output_type": "stream",
     "text": [
      "Train loss: 3.701\n",
      "Validation loss: 4.003\n"
     ]
    },
    {
     "data": {
      "application/vnd.jupyter.widget-view+json": {
       "model_id": "6723801934cf4a048a2e427c3a1c87dd",
       "version_major": 2,
       "version_minor": 0
      },
      "text/plain": [
       "Epoch 3: 0it [00:00, ?it/s]"
      ]
     },
     "metadata": {},
     "output_type": "display_data"
    },
    {
     "name": "stdout",
     "output_type": "stream",
     "text": [
      "Train loss: 3.863\n",
      "Validation loss: 4.000\n"
     ]
    },
    {
     "data": {
      "application/vnd.jupyter.widget-view+json": {
       "model_id": "562bf1be769b42099e817b49723316f9",
       "version_major": 2,
       "version_minor": 0
      },
      "text/plain": [
       "Epoch 4: 0it [00:00, ?it/s]"
      ]
     },
     "metadata": {},
     "output_type": "display_data"
    },
    {
     "name": "stdout",
     "output_type": "stream",
     "text": [
      "Train loss: 3.868\n",
      "Validation loss: 4.000\n"
     ]
    },
    {
     "data": {
      "application/vnd.jupyter.widget-view+json": {
       "model_id": "d405b420402b4126b85be6f5ee96fa84",
       "version_major": 2,
       "version_minor": 0
      },
      "text/plain": [
       "Epoch 5: 0it [00:00, ?it/s]"
      ]
     },
     "metadata": {},
     "output_type": "display_data"
    },
    {
     "name": "stdout",
     "output_type": "stream",
     "text": [
      "Train loss: 3.887\n",
      "Validation loss: 4.002\n"
     ]
    },
    {
     "data": {
      "application/vnd.jupyter.widget-view+json": {
       "model_id": "baa8c1196a2d480ab92e1d443777cc33",
       "version_major": 2,
       "version_minor": 0
      },
      "text/plain": [
       "Epoch 6: 0it [00:00, ?it/s]"
      ]
     },
     "metadata": {},
     "output_type": "display_data"
    },
    {
     "name": "stdout",
     "output_type": "stream",
     "text": [
      "Train loss: 3.887\n",
      "Validation loss: 4.006\n"
     ]
    },
    {
     "data": {
      "application/vnd.jupyter.widget-view+json": {
       "model_id": "2390ab1354874d298930468eb03b155a",
       "version_major": 2,
       "version_minor": 0
      },
      "text/plain": [
       "Epoch 7: 0it [00:00, ?it/s]"
      ]
     },
     "metadata": {},
     "output_type": "display_data"
    },
    {
     "name": "stdout",
     "output_type": "stream",
     "text": [
      "Train loss: 3.886\n",
      "Validation loss: 4.006\n"
     ]
    },
    {
     "data": {
      "application/vnd.jupyter.widget-view+json": {
       "model_id": "19b5d22ae1844e6fbdee1cde5ca88c87",
       "version_major": 2,
       "version_minor": 0
      },
      "text/plain": [
       "Epoch 8: 0it [00:00, ?it/s]"
      ]
     },
     "metadata": {},
     "output_type": "display_data"
    },
    {
     "name": "stdout",
     "output_type": "stream",
     "text": [
      "Train loss: 3.893\n",
      "Validation loss: 4.004\n"
     ]
    },
    {
     "data": {
      "application/vnd.jupyter.widget-view+json": {
       "model_id": "38fd824f754f45a9895a934d3667be4b",
       "version_major": 2,
       "version_minor": 0
      },
      "text/plain": [
       "Epoch 9: 0it [00:00, ?it/s]"
      ]
     },
     "metadata": {},
     "output_type": "display_data"
    },
    {
     "name": "stdout",
     "output_type": "stream",
     "text": [
      "Train loss: 3.881\n",
      "Validation loss: 4.001\n"
     ]
    },
    {
     "data": {
      "application/vnd.jupyter.widget-view+json": {
       "model_id": "724b9f8101584cbdbb032fef6b0f3417",
       "version_major": 2,
       "version_minor": 0
      },
      "text/plain": [
       "Epoch 10: 0it [00:00, ?it/s]"
      ]
     },
     "metadata": {},
     "output_type": "display_data"
    },
    {
     "name": "stdout",
     "output_type": "stream",
     "text": [
      "Train loss: 3.881\n",
      "Validation loss: 4.002\n"
     ]
    },
    {
     "data": {
      "application/vnd.jupyter.widget-view+json": {
       "model_id": "d34433cafcc443f39dcae105643e7fc9",
       "version_major": 2,
       "version_minor": 0
      },
      "text/plain": [
       "Epoch 11: 0it [00:00, ?it/s]"
      ]
     },
     "metadata": {},
     "output_type": "display_data"
    },
    {
     "name": "stdout",
     "output_type": "stream",
     "text": [
      "Train loss: 3.880\n",
      "Validation loss: 4.003\n"
     ]
    },
    {
     "data": {
      "application/vnd.jupyter.widget-view+json": {
       "model_id": "fa4b8b6b70c443ea91b3de149b42b41e",
       "version_major": 2,
       "version_minor": 0
      },
      "text/plain": [
       "Epoch 12: 0it [00:00, ?it/s]"
      ]
     },
     "metadata": {},
     "output_type": "display_data"
    },
    {
     "name": "stdout",
     "output_type": "stream",
     "text": [
      "Train loss: 3.867\n",
      "Validation loss: 4.003\n"
     ]
    },
    {
     "data": {
      "application/vnd.jupyter.widget-view+json": {
       "model_id": "39d9eab62cfe44dda8cb6e3792e52d0c",
       "version_major": 2,
       "version_minor": 0
      },
      "text/plain": [
       "Epoch 13: 0it [00:00, ?it/s]"
      ]
     },
     "metadata": {},
     "output_type": "display_data"
    },
    {
     "name": "stdout",
     "output_type": "stream",
     "text": [
      "Train loss: 3.891\n",
      "Validation loss: 4.004\n"
     ]
    },
    {
     "data": {
      "application/vnd.jupyter.widget-view+json": {
       "model_id": "ca3ef6c3efd84ef6b843e344676b04f7",
       "version_major": 2,
       "version_minor": 0
      },
      "text/plain": [
       "Epoch 14: 0it [00:00, ?it/s]"
      ]
     },
     "metadata": {},
     "output_type": "display_data"
    },
    {
     "name": "stdout",
     "output_type": "stream",
     "text": [
      "Train loss: 3.903\n",
      "Validation loss: 4.004\n"
     ]
    },
    {
     "data": {
      "application/vnd.jupyter.widget-view+json": {
       "model_id": "abfdca8e19124bfe8ff87b89fb32e52e",
       "version_major": 2,
       "version_minor": 0
      },
      "text/plain": [
       "Epoch 15: 0it [00:00, ?it/s]"
      ]
     },
     "metadata": {},
     "output_type": "display_data"
    },
    {
     "name": "stdout",
     "output_type": "stream",
     "text": [
      "Train loss: 3.891\n",
      "Validation loss: 4.008\n"
     ]
    },
    {
     "data": {
      "application/vnd.jupyter.widget-view+json": {
       "model_id": "7f3a020dfa3b4b9aae96aba3a7f289f2",
       "version_major": 2,
       "version_minor": 0
      },
      "text/plain": [
       "Epoch 16: 0it [00:00, ?it/s]"
      ]
     },
     "metadata": {},
     "output_type": "display_data"
    },
    {
     "name": "stdout",
     "output_type": "stream",
     "text": [
      "Train loss: 3.870\n",
      "Validation loss: 4.003\n"
     ]
    },
    {
     "data": {
      "application/vnd.jupyter.widget-view+json": {
       "model_id": "2c14aff507054fda8c03c4bb56893d33",
       "version_major": 2,
       "version_minor": 0
      },
      "text/plain": [
       "Epoch 17: 0it [00:00, ?it/s]"
      ]
     },
     "metadata": {},
     "output_type": "display_data"
    },
    {
     "name": "stdout",
     "output_type": "stream",
     "text": [
      "Train loss: 3.903\n",
      "Validation loss: 4.003\n"
     ]
    },
    {
     "data": {
      "application/vnd.jupyter.widget-view+json": {
       "model_id": "3a1e7185521240d086ca21fdfd95701d",
       "version_major": 2,
       "version_minor": 0
      },
      "text/plain": [
       "Epoch 18: 0it [00:00, ?it/s]"
      ]
     },
     "metadata": {},
     "output_type": "display_data"
    },
    {
     "name": "stdout",
     "output_type": "stream",
     "text": [
      "Train loss: 3.882\n"
     ]
    },
    {
     "ename": "KeyboardInterrupt",
     "evalue": "",
     "output_type": "error",
     "traceback": [
      "\u001b[0;31m---------------------------------------------------------------------------\u001b[0m",
      "\u001b[0;31mKeyboardInterrupt\u001b[0m                         Traceback (most recent call last)",
      "Cell \u001b[0;32mIn[26], line 6\u001b[0m\n\u001b[1;32m      4\u001b[0m config \u001b[38;5;241m=\u001b[39m yaml\u001b[38;5;241m.\u001b[39msafe_load(file)\n\u001b[1;32m      5\u001b[0m trainer \u001b[38;5;241m=\u001b[39m InteractiveTrainer(config, log\u001b[38;5;241m=\u001b[39m\u001b[38;5;28;01mTrue\u001b[39;00m, logdir\u001b[38;5;241m=\u001b[39m\u001b[38;5;124m\"\u001b[39m\u001b[38;5;124mruns\u001b[39m\u001b[38;5;124m\"\u001b[39m)\n\u001b[0;32m----> 6\u001b[0m \u001b[43mtrainer\u001b[49m\u001b[38;5;241;43m.\u001b[39;49m\u001b[43mtrain\u001b[49m\u001b[43m(\u001b[49m\u001b[43m)\u001b[49m\n\u001b[1;32m      7\u001b[0m trainer\u001b[38;5;241m.\u001b[39mtest()\n",
      "Cell \u001b[0;32mIn[24], line 98\u001b[0m, in \u001b[0;36mInteractiveTrainer.train\u001b[0;34m(self)\u001b[0m\n\u001b[1;32m     96\u001b[0m \u001b[38;5;28;01mfor\u001b[39;00m i \u001b[38;5;129;01min\u001b[39;00m \u001b[38;5;28mrange\u001b[39m(\u001b[38;5;28mself\u001b[39m\u001b[38;5;241m.\u001b[39mn_epochs):\n\u001b[1;32m     97\u001b[0m     \u001b[38;5;28mself\u001b[39m\u001b[38;5;241m.\u001b[39mtrain_epoch(i)\n\u001b[0;32m---> 98\u001b[0m     \u001b[38;5;28;43mself\u001b[39;49m\u001b[38;5;241;43m.\u001b[39;49m\u001b[43mcompute_metrics\u001b[49m\u001b[43m(\u001b[49m\u001b[43mi\u001b[49m\u001b[43m)\u001b[49m\n\u001b[1;32m     99\u001b[0m     \u001b[38;5;28mself\u001b[39m\u001b[38;5;241m.\u001b[39msave_model(i)\n",
      "Cell \u001b[0;32mIn[24], line 59\u001b[0m, in \u001b[0;36mInteractiveTrainer.compute_metrics\u001b[0;34m(self, i)\u001b[0m\n\u001b[1;32m     57\u001b[0m         func \u001b[38;5;241m=\u001b[39m partial(solve_vsp, graph\u001b[38;5;241m=\u001b[39mgraph)\n\u001b[1;32m     58\u001b[0m         criterion \u001b[38;5;241m=\u001b[39m \u001b[38;5;28mself\u001b[39m\u001b[38;5;241m.\u001b[39mcriterion(func)\n\u001b[0;32m---> 59\u001b[0m         loss \u001b[38;5;241m=\u001b[39m \u001b[43mcriterion\u001b[49m\u001b[43m(\u001b[49m\u001b[43mtheta\u001b[49m\u001b[43m,\u001b[49m\u001b[43m \u001b[49m\u001b[43mlabels\u001b[49m\u001b[43m)\u001b[49m\u001b[38;5;241m.\u001b[39mmean()\n\u001b[1;32m     60\u001b[0m         losses\u001b[38;5;241m.\u001b[39mappend(loss\u001b[38;5;241m.\u001b[39mitem())\n\u001b[1;32m     62\u001b[0m \u001b[38;5;28mprint\u001b[39m(\u001b[38;5;124mf\u001b[39m\u001b[38;5;124m\"\u001b[39m\u001b[38;5;124mValidation loss: \u001b[39m\u001b[38;5;132;01m{\u001b[39;00mnp\u001b[38;5;241m.\u001b[39mmean(losses)\u001b[38;5;132;01m:\u001b[39;00m\u001b[38;5;124m.3f\u001b[39m\u001b[38;5;132;01m}\u001b[39;00m\u001b[38;5;124m\"\u001b[39m)\n",
      "File \u001b[0;32m~/Library/Python/3.9/lib/python/site-packages/torch/nn/modules/module.py:1532\u001b[0m, in \u001b[0;36mModule._wrapped_call_impl\u001b[0;34m(self, *args, **kwargs)\u001b[0m\n\u001b[1;32m   1530\u001b[0m     \u001b[38;5;28;01mreturn\u001b[39;00m \u001b[38;5;28mself\u001b[39m\u001b[38;5;241m.\u001b[39m_compiled_call_impl(\u001b[38;5;241m*\u001b[39margs, \u001b[38;5;241m*\u001b[39m\u001b[38;5;241m*\u001b[39mkwargs)  \u001b[38;5;66;03m# type: ignore[misc]\u001b[39;00m\n\u001b[1;32m   1531\u001b[0m \u001b[38;5;28;01melse\u001b[39;00m:\n\u001b[0;32m-> 1532\u001b[0m     \u001b[38;5;28;01mreturn\u001b[39;00m \u001b[38;5;28;43mself\u001b[39;49m\u001b[38;5;241;43m.\u001b[39;49m\u001b[43m_call_impl\u001b[49m\u001b[43m(\u001b[49m\u001b[38;5;241;43m*\u001b[39;49m\u001b[43margs\u001b[49m\u001b[43m,\u001b[49m\u001b[43m \u001b[49m\u001b[38;5;241;43m*\u001b[39;49m\u001b[38;5;241;43m*\u001b[39;49m\u001b[43mkwargs\u001b[49m\u001b[43m)\u001b[49m\n",
      "File \u001b[0;32m~/Library/Python/3.9/lib/python/site-packages/torch/nn/modules/module.py:1541\u001b[0m, in \u001b[0;36mModule._call_impl\u001b[0;34m(self, *args, **kwargs)\u001b[0m\n\u001b[1;32m   1536\u001b[0m \u001b[38;5;66;03m# If we don't have any hooks, we want to skip the rest of the logic in\u001b[39;00m\n\u001b[1;32m   1537\u001b[0m \u001b[38;5;66;03m# this function, and just call forward.\u001b[39;00m\n\u001b[1;32m   1538\u001b[0m \u001b[38;5;28;01mif\u001b[39;00m \u001b[38;5;129;01mnot\u001b[39;00m (\u001b[38;5;28mself\u001b[39m\u001b[38;5;241m.\u001b[39m_backward_hooks \u001b[38;5;129;01mor\u001b[39;00m \u001b[38;5;28mself\u001b[39m\u001b[38;5;241m.\u001b[39m_backward_pre_hooks \u001b[38;5;129;01mor\u001b[39;00m \u001b[38;5;28mself\u001b[39m\u001b[38;5;241m.\u001b[39m_forward_hooks \u001b[38;5;129;01mor\u001b[39;00m \u001b[38;5;28mself\u001b[39m\u001b[38;5;241m.\u001b[39m_forward_pre_hooks\n\u001b[1;32m   1539\u001b[0m         \u001b[38;5;129;01mor\u001b[39;00m _global_backward_pre_hooks \u001b[38;5;129;01mor\u001b[39;00m _global_backward_hooks\n\u001b[1;32m   1540\u001b[0m         \u001b[38;5;129;01mor\u001b[39;00m _global_forward_hooks \u001b[38;5;129;01mor\u001b[39;00m _global_forward_pre_hooks):\n\u001b[0;32m-> 1541\u001b[0m     \u001b[38;5;28;01mreturn\u001b[39;00m \u001b[43mforward_call\u001b[49m\u001b[43m(\u001b[49m\u001b[38;5;241;43m*\u001b[39;49m\u001b[43margs\u001b[49m\u001b[43m,\u001b[49m\u001b[43m \u001b[49m\u001b[38;5;241;43m*\u001b[39;49m\u001b[38;5;241;43m*\u001b[39;49m\u001b[43mkwargs\u001b[49m\u001b[43m)\u001b[49m\n\u001b[1;32m   1543\u001b[0m \u001b[38;5;28;01mtry\u001b[39;00m:\n\u001b[1;32m   1544\u001b[0m     result \u001b[38;5;241m=\u001b[39m \u001b[38;5;28;01mNone\u001b[39;00m\n",
      "File \u001b[0;32m~/University/PMLR/stochastic-vehicle-routing/src/perturbations/fenchel_young.py:88\u001b[0m, in \u001b[0;36mFenchelYoungLoss.forward\u001b[0;34m(self, input_tensor, y_true, *args)\u001b[0m\n\u001b[1;32m     87\u001b[0m \u001b[38;5;28;01mdef\u001b[39;00m \u001b[38;5;21mforward\u001b[39m(\u001b[38;5;28mself\u001b[39m, input_tensor, y_true, \u001b[38;5;241m*\u001b[39margs):\n\u001b[0;32m---> 88\u001b[0m     \u001b[38;5;28;01mreturn\u001b[39;00m \u001b[43mPerturbedFunc\u001b[49m\u001b[38;5;241;43m.\u001b[39;49m\u001b[43mapply\u001b[49m\u001b[43m(\u001b[49m\u001b[43minput_tensor\u001b[49m\u001b[43m,\u001b[49m\u001b[43m \u001b[49m\u001b[43my_true\u001b[49m\u001b[43m,\u001b[49m\u001b[43m \u001b[49m\u001b[38;5;28;43mself\u001b[39;49m\u001b[38;5;241;43m.\u001b[39;49m\u001b[43mperturbed\u001b[49m\u001b[43m,\u001b[49m\u001b[43m \u001b[49m\u001b[38;5;28;43mself\u001b[39;49m\u001b[38;5;241;43m.\u001b[39;49m\u001b[43m_batched\u001b[49m\u001b[43m,\u001b[49m\u001b[43m \u001b[49m\u001b[38;5;28;43mself\u001b[39;49m\u001b[38;5;241;43m.\u001b[39;49m\u001b[43m_maximize\u001b[49m\u001b[43m,\u001b[49m\u001b[43m \u001b[49m\u001b[38;5;241;43m*\u001b[39;49m\u001b[43margs\u001b[49m\u001b[43m)\u001b[49m\n",
      "File \u001b[0;32m~/Library/Python/3.9/lib/python/site-packages/torch/autograd/function.py:598\u001b[0m, in \u001b[0;36mFunction.apply\u001b[0;34m(cls, *args, **kwargs)\u001b[0m\n\u001b[1;32m    595\u001b[0m \u001b[38;5;28;01mif\u001b[39;00m \u001b[38;5;129;01mnot\u001b[39;00m torch\u001b[38;5;241m.\u001b[39m_C\u001b[38;5;241m.\u001b[39m_are_functorch_transforms_active():\n\u001b[1;32m    596\u001b[0m     \u001b[38;5;66;03m# See NOTE: [functorch vjp and autograd interaction]\u001b[39;00m\n\u001b[1;32m    597\u001b[0m     args \u001b[38;5;241m=\u001b[39m _functorch\u001b[38;5;241m.\u001b[39mutils\u001b[38;5;241m.\u001b[39munwrap_dead_wrappers(args)\n\u001b[0;32m--> 598\u001b[0m     \u001b[38;5;28;01mreturn\u001b[39;00m \u001b[38;5;28;43msuper\u001b[39;49m\u001b[43m(\u001b[49m\u001b[43m)\u001b[49m\u001b[38;5;241;43m.\u001b[39;49m\u001b[43mapply\u001b[49m\u001b[43m(\u001b[49m\u001b[38;5;241;43m*\u001b[39;49m\u001b[43margs\u001b[49m\u001b[43m,\u001b[49m\u001b[43m \u001b[49m\u001b[38;5;241;43m*\u001b[39;49m\u001b[38;5;241;43m*\u001b[39;49m\u001b[43mkwargs\u001b[49m\u001b[43m)\u001b[49m  \u001b[38;5;66;03m# type: ignore[misc]\u001b[39;00m\n\u001b[1;32m    600\u001b[0m \u001b[38;5;28;01mif\u001b[39;00m \u001b[38;5;129;01mnot\u001b[39;00m is_setup_ctx_defined:\n\u001b[1;32m    601\u001b[0m     \u001b[38;5;28;01mraise\u001b[39;00m \u001b[38;5;167;01mRuntimeError\u001b[39;00m(\n\u001b[1;32m    602\u001b[0m         \u001b[38;5;124m\"\u001b[39m\u001b[38;5;124mIn order to use an autograd.Function with functorch transforms \u001b[39m\u001b[38;5;124m\"\u001b[39m\n\u001b[1;32m    603\u001b[0m         \u001b[38;5;124m\"\u001b[39m\u001b[38;5;124m(vmap, grad, jvp, jacrev, ...), it must override the setup_context \u001b[39m\u001b[38;5;124m\"\u001b[39m\n\u001b[1;32m    604\u001b[0m         \u001b[38;5;124m\"\u001b[39m\u001b[38;5;124mstaticmethod. For more details, please see \u001b[39m\u001b[38;5;124m\"\u001b[39m\n\u001b[1;32m    605\u001b[0m         \u001b[38;5;124m\"\u001b[39m\u001b[38;5;124mhttps://pytorch.org/docs/master/notes/extending.func.html\u001b[39m\u001b[38;5;124m\"\u001b[39m\n\u001b[1;32m    606\u001b[0m     )\n",
      "File \u001b[0;32m~/University/PMLR/stochastic-vehicle-routing/src/perturbations/fenchel_young.py:34\u001b[0m, in \u001b[0;36mPerturbedFunc.forward\u001b[0;34m(ctx, input_tensor, y_true, perturbed, batched, maximize, *args)\u001b[0m\n\u001b[1;32m     32\u001b[0m \u001b[38;5;129m@staticmethod\u001b[39m\n\u001b[1;32m     33\u001b[0m \u001b[38;5;28;01mdef\u001b[39;00m \u001b[38;5;21mforward\u001b[39m(ctx, input_tensor, y_true, perturbed, batched, maximize, \u001b[38;5;241m*\u001b[39margs):\n\u001b[0;32m---> 34\u001b[0m     diff \u001b[38;5;241m=\u001b[39m \u001b[43mperturbed\u001b[49m\u001b[43m(\u001b[49m\u001b[43minput_tensor\u001b[49m\u001b[43m,\u001b[49m\u001b[43m \u001b[49m\u001b[38;5;241;43m*\u001b[39;49m\u001b[43margs\u001b[49m\u001b[43m)\u001b[49m \u001b[38;5;241m-\u001b[39m y_true\u001b[38;5;241m.\u001b[39mtype(input_tensor\u001b[38;5;241m.\u001b[39mdtype)\n\u001b[1;32m     35\u001b[0m     \u001b[38;5;28;01mif\u001b[39;00m \u001b[38;5;129;01mnot\u001b[39;00m maximize:\n\u001b[1;32m     36\u001b[0m         diff \u001b[38;5;241m=\u001b[39m \u001b[38;5;241m-\u001b[39mdiff\n",
      "File \u001b[0;32m~/University/PMLR/stochastic-vehicle-routing/src/perturbations/perturbations.py:201\u001b[0m, in \u001b[0;36mperturbed.<locals>.wrapper\u001b[0;34m(input_tensor, *args)\u001b[0m\n\u001b[1;32m    198\u001b[0m         g \u001b[38;5;241m/\u001b[39m\u001b[38;5;241m=\u001b[39m sigma \u001b[38;5;241m*\u001b[39m num_samples\n\u001b[1;32m    199\u001b[0m         \u001b[38;5;28;01mreturn\u001b[39;00m torch\u001b[38;5;241m.\u001b[39mreshape(g, original_input_shape)\n\u001b[0;32m--> 201\u001b[0m \u001b[38;5;28;01mreturn\u001b[39;00m \u001b[43mPerturbedFunc\u001b[49m\u001b[38;5;241;43m.\u001b[39;49m\u001b[43mapply\u001b[49m\u001b[43m(\u001b[49m\u001b[43minput_tensor\u001b[49m\u001b[43m,\u001b[49m\u001b[43m \u001b[49m\u001b[38;5;241;43m*\u001b[39;49m\u001b[43margs\u001b[49m\u001b[43m)\u001b[49m\n",
      "File \u001b[0;32m~/Library/Python/3.9/lib/python/site-packages/torch/autograd/function.py:598\u001b[0m, in \u001b[0;36mFunction.apply\u001b[0;34m(cls, *args, **kwargs)\u001b[0m\n\u001b[1;32m    595\u001b[0m \u001b[38;5;28;01mif\u001b[39;00m \u001b[38;5;129;01mnot\u001b[39;00m torch\u001b[38;5;241m.\u001b[39m_C\u001b[38;5;241m.\u001b[39m_are_functorch_transforms_active():\n\u001b[1;32m    596\u001b[0m     \u001b[38;5;66;03m# See NOTE: [functorch vjp and autograd interaction]\u001b[39;00m\n\u001b[1;32m    597\u001b[0m     args \u001b[38;5;241m=\u001b[39m _functorch\u001b[38;5;241m.\u001b[39mutils\u001b[38;5;241m.\u001b[39munwrap_dead_wrappers(args)\n\u001b[0;32m--> 598\u001b[0m     \u001b[38;5;28;01mreturn\u001b[39;00m \u001b[38;5;28;43msuper\u001b[39;49m\u001b[43m(\u001b[49m\u001b[43m)\u001b[49m\u001b[38;5;241;43m.\u001b[39;49m\u001b[43mapply\u001b[49m\u001b[43m(\u001b[49m\u001b[38;5;241;43m*\u001b[39;49m\u001b[43margs\u001b[49m\u001b[43m,\u001b[49m\u001b[43m \u001b[49m\u001b[38;5;241;43m*\u001b[39;49m\u001b[38;5;241;43m*\u001b[39;49m\u001b[43mkwargs\u001b[49m\u001b[43m)\u001b[49m  \u001b[38;5;66;03m# type: ignore[misc]\u001b[39;00m\n\u001b[1;32m    600\u001b[0m \u001b[38;5;28;01mif\u001b[39;00m \u001b[38;5;129;01mnot\u001b[39;00m is_setup_ctx_defined:\n\u001b[1;32m    601\u001b[0m     \u001b[38;5;28;01mraise\u001b[39;00m \u001b[38;5;167;01mRuntimeError\u001b[39;00m(\n\u001b[1;32m    602\u001b[0m         \u001b[38;5;124m\"\u001b[39m\u001b[38;5;124mIn order to use an autograd.Function with functorch transforms \u001b[39m\u001b[38;5;124m\"\u001b[39m\n\u001b[1;32m    603\u001b[0m         \u001b[38;5;124m\"\u001b[39m\u001b[38;5;124m(vmap, grad, jvp, jacrev, ...), it must override the setup_context \u001b[39m\u001b[38;5;124m\"\u001b[39m\n\u001b[1;32m    604\u001b[0m         \u001b[38;5;124m\"\u001b[39m\u001b[38;5;124mstaticmethod. For more details, please see \u001b[39m\u001b[38;5;124m\"\u001b[39m\n\u001b[1;32m    605\u001b[0m         \u001b[38;5;124m\"\u001b[39m\u001b[38;5;124mhttps://pytorch.org/docs/master/notes/extending.func.html\u001b[39m\u001b[38;5;124m\"\u001b[39m\n\u001b[1;32m    606\u001b[0m     )\n",
      "File \u001b[0;32m~/University/PMLR/stochastic-vehicle-routing/src/perturbations/perturbations.py:158\u001b[0m, in \u001b[0;36mperturbed.<locals>.wrapper.<locals>.PerturbedFunc.forward\u001b[0;34m(ctx, input_tensor, *args)\u001b[0m\n\u001b[1;32m    156\u001b[0m perturbed_input \u001b[38;5;241m=\u001b[39m torch\u001b[38;5;241m.\u001b[39mreshape(perturbed_input, flat_batch_dim_shape)\n\u001b[1;32m    157\u001b[0m \u001b[38;5;66;03m# Calls user-defined function in a perturbation agnostic manner.\u001b[39;00m\n\u001b[0;32m--> 158\u001b[0m perturbed_output \u001b[38;5;241m=\u001b[39m \u001b[43mfunc\u001b[49m\u001b[43m(\u001b[49m\u001b[43mperturbed_input\u001b[49m\u001b[43m,\u001b[49m\u001b[43m \u001b[49m\u001b[38;5;241;43m*\u001b[39;49m\u001b[43margs\u001b[49m\u001b[43m)\u001b[49m\n\u001b[1;32m    159\u001b[0m \u001b[38;5;66;03m# [NB, D1, ..., Dk] ->  [N, B, D1, ..., Dk].\u001b[39;00m\n\u001b[1;32m    160\u001b[0m perturbed_input \u001b[38;5;241m=\u001b[39m torch\u001b[38;5;241m.\u001b[39mreshape(perturbed_input, perturbed_input_shape)\n",
      "File \u001b[0;32m~/University/PMLR/stochastic-vehicle-routing/src/VSPSolver.py:38\u001b[0m, in \u001b[0;36msolve_vsp\u001b[0;34m(thetas, graph)\u001b[0m\n\u001b[1;32m     34\u001b[0m solution \u001b[38;5;241m=\u001b[39m torch\u001b[38;5;241m.\u001b[39mempty_like(thetas)\n\u001b[1;32m     36\u001b[0m \u001b[38;5;28;01mfor\u001b[39;00m i, theta \u001b[38;5;129;01min\u001b[39;00m \u001b[38;5;28menumerate\u001b[39m(thetas):\n\u001b[1;32m     37\u001b[0m     \u001b[38;5;66;03m# Set objective\u001b[39;00m\n\u001b[0;32m---> 38\u001b[0m     model\u001b[38;5;241m.\u001b[39msetObjective(\u001b[43mquicksum\u001b[49m\u001b[43m(\u001b[49m\u001b[43mt\u001b[49m\u001b[43m \u001b[49m\u001b[38;5;241;43m*\u001b[39;49m\u001b[43m \u001b[49m\u001b[43mv\u001b[49m\u001b[43m \u001b[49m\u001b[38;5;28;43;01mfor\u001b[39;49;00m\u001b[43m \u001b[49m\u001b[43mt\u001b[49m\u001b[43m,\u001b[49m\u001b[43m \u001b[49m\u001b[43mv\u001b[49m\u001b[43m \u001b[49m\u001b[38;5;129;43;01min\u001b[39;49;00m\u001b[43m \u001b[49m\u001b[38;5;28;43mzip\u001b[39;49m\u001b[43m(\u001b[49m\u001b[43mtheta\u001b[49m\u001b[43m,\u001b[49m\u001b[43m \u001b[49m\u001b[43mmodel\u001b[49m\u001b[38;5;241;43m.\u001b[39;49m\u001b[43mgetVars\u001b[49m\u001b[43m(\u001b[49m\u001b[43m)\u001b[49m\u001b[43m)\u001b[49m\u001b[43m)\u001b[49m, GRB\u001b[38;5;241m.\u001b[39mMINIMIZE)\n\u001b[1;32m     40\u001b[0m     \u001b[38;5;66;03m# Clear the previous solution\u001b[39;00m\n\u001b[1;32m     41\u001b[0m     model\u001b[38;5;241m.\u001b[39mreset(clearall\u001b[38;5;241m=\u001b[39m\u001b[38;5;241m0\u001b[39m)\n",
      "File \u001b[0;32msrc/gurobipy/gurobi.pxi:3842\u001b[0m, in \u001b[0;36mgurobipy.quicksum\u001b[0;34m()\u001b[0m\n",
      "File \u001b[0;32m~/University/PMLR/stochastic-vehicle-routing/src/VSPSolver.py:38\u001b[0m, in \u001b[0;36m<genexpr>\u001b[0;34m(.0)\u001b[0m\n\u001b[1;32m     34\u001b[0m solution \u001b[38;5;241m=\u001b[39m torch\u001b[38;5;241m.\u001b[39mempty_like(thetas)\n\u001b[1;32m     36\u001b[0m \u001b[38;5;28;01mfor\u001b[39;00m i, theta \u001b[38;5;129;01min\u001b[39;00m \u001b[38;5;28menumerate\u001b[39m(thetas):\n\u001b[1;32m     37\u001b[0m     \u001b[38;5;66;03m# Set objective\u001b[39;00m\n\u001b[0;32m---> 38\u001b[0m     model\u001b[38;5;241m.\u001b[39msetObjective(quicksum(\u001b[43mt\u001b[49m\u001b[43m \u001b[49m\u001b[38;5;241;43m*\u001b[39;49m\u001b[43m \u001b[49m\u001b[43mv\u001b[49m \u001b[38;5;28;01mfor\u001b[39;00m t, v \u001b[38;5;129;01min\u001b[39;00m \u001b[38;5;28mzip\u001b[39m(theta, model\u001b[38;5;241m.\u001b[39mgetVars())), GRB\u001b[38;5;241m.\u001b[39mMINIMIZE)\n\u001b[1;32m     40\u001b[0m     \u001b[38;5;66;03m# Clear the previous solution\u001b[39;00m\n\u001b[1;32m     41\u001b[0m     model\u001b[38;5;241m.\u001b[39mreset(clearall\u001b[38;5;241m=\u001b[39m\u001b[38;5;241m0\u001b[39m)\n",
      "\u001b[0;31mKeyboardInterrupt\u001b[0m: "
     ]
    }
   ],
   "source": [
    "import yaml\n",
    "\n",
    "with open(\"configs/test.yaml\", \"r\") as file:\n",
    "    config = yaml.safe_load(file)\n",
    "    trainer = InteractiveTrainer(config, log=True, logdir=\"runs\")\n",
    "    trainer.train()\n",
    "    trainer.test()"
   ]
  }
 ],
 "metadata": {
  "kernelspec": {
   "display_name": "Python 3",
   "language": "python",
   "name": "python3"
  },
  "language_info": {
   "codemirror_mode": {
    "name": "ipython",
    "version": 3
   },
   "file_extension": ".py",
   "mimetype": "text/x-python",
   "name": "python",
   "nbconvert_exporter": "python",
   "pygments_lexer": "ipython3",
   "version": "3.9.6"
  }
 },
 "nbformat": 4,
 "nbformat_minor": 2
}
